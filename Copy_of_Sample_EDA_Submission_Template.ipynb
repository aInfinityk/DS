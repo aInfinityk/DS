{
  "nbformat": 4,
  "nbformat_minor": 0,
  "metadata": {
    "colab": {
      "private_outputs": true,
      "provenance": [],
      "collapsed_sections": [
        "vncDsAP0Gaoa",
        "FJNUwmbgGyua",
        "w6K7xa23Elo4",
        "yQaldy8SH6Dl",
        "PH-0ReGfmX4f",
        "mDgbUHAGgjLW",
        "O_i_v8NEhb9l",
        "HhfV-JJviCcP",
        "Y3lxredqlCYt",
        "3RnN4peoiCZX",
        "x71ZqKXriCWQ",
        "7hBIi_osiCS2",
        "JlHwYmJAmNHm",
        "35m5QtbWiB9F",
        "PoPl-ycgm1ru",
        "H0kj-8xxnORC",
        "nA9Y7ga8ng1Z",
        "PBTbrJXOngz2",
        "u3PMJOP6ngxN",
        "dauF4eBmngu3",
        "bKJF3rekwFvQ",
        "MSa1f5Uengrz",
        "GF8Ens_Soomf",
        "0wOQAZs5pc--",
        "K5QZ13OEpz2H",
        "lQ7QKXXCp7Bj",
        "448CDAPjqfQr",
        "KSlN3yHqYklG",
        "t6dVpIINYklI",
        "ijmpgYnKYklI",
        "-JiQyfWJYklI",
        "EM7whBJCYoAo",
        "fge-S5ZAYoAp",
        "85gYPyotYoAp",
        "RoGjAbkUYoAp",
        "4Of9eVA-YrdM",
        "iky9q4vBYrdO",
        "F6T5p64dYrdO",
        "y-Ehk30pYrdP",
        "bamQiAODYuh1",
        "QHF8YVU7Yuh3",
        "GwzvFGzlYuh3",
        "qYpmQ266Yuh3",
        "OH-pJp9IphqM",
        "bbFf2-_FphqN",
        "_ouA3fa0phqN",
        "Seke61FWphqN",
        "PIIx-8_IphqN",
        "t27r6nlMphqO",
        "r2jJGEOYphqO",
        "b0JNsNcRphqO",
        "BZR9WyysphqO",
        "jj7wYXLtphqO",
        "eZrbJ2SmphqO",
        "rFu4xreNphqO",
        "YJ55k-q6phqO",
        "gCFgpxoyphqP",
        "OVtJsKN_phqQ",
        "lssrdh5qphqQ",
        "U2RJ9gkRphqQ",
        "1M8mcRywphqQ",
        "tgIPom80phqQ",
        "JMzcOPDDphqR",
        "x-EpHcCOp1ci",
        "X_VqEhTip1ck",
        "8zGJKyg5p1ck",
        "PVzmfK_Ep1ck",
        "n3dbpmDWp1ck",
        "ylSl6qgtp1ck",
        "ZWILFDl5p1ck",
        "M7G43BXep1ck",
        "Ag9LCva-p1cl",
        "E6MkPsBcp1cl",
        "2cELzS2fp1cl",
        "3MPXvC8up1cl",
        "NC_X3p0fY2L0",
        "UV0SzAkaZNRQ",
        "YPEH6qLeZNRQ",
        "q29F0dvdveiT",
        "EXh0U9oCveiU",
        "22aHeOlLveiV",
        "JcMwzZxoAimU",
        "8G2x9gOozGDZ",
        "gCX9965dhzqZ",
        "gIfDvo9L0UH2"
      ],
      "include_colab_link": true
    },
    "kernelspec": {
      "name": "python3",
      "display_name": "Python 3"
    },
    "language_info": {
      "name": "python"
    }
  },
  "cells": [
    {
      "cell_type": "markdown",
      "metadata": {
        "id": "view-in-github",
        "colab_type": "text"
      },
      "source": [
        "<a href=\"https://colab.research.google.com/github/aInfinityk/DS/blob/main/Copy_of_Sample_EDA_Submission_Template.ipynb\" target=\"_parent\"><img src=\"https://colab.research.google.com/assets/colab-badge.svg\" alt=\"Open In Colab\"/></a>"
      ]
    },
    {
      "cell_type": "markdown",
      "source": [
        "# **Project Name**    -\n",
        "\n"
      ],
      "metadata": {
        "id": "vncDsAP0Gaoa"
      }
    },
    {
      "cell_type": "markdown",
      "source": [
        "##### **Project Type**    - EDA\n",
        "##### **Contribution**    - Individual\n",
        "Name- Anjali Prasad\n"
      ],
      "metadata": {
        "id": "beRrZCGUAJYm"
      }
    },
    {
      "cell_type": "markdown",
      "source": [],
      "metadata": {
        "id": "cTREaSTqGy7d"
      }
    },
    {
      "cell_type": "markdown",
      "source": [
        "# **Project Summary -**"
      ],
      "metadata": {
        "id": "FJNUwmbgGyua"
      }
    },
    {
      "cell_type": "markdown",
      "source": [
        "The aim of this project was to perform exploratory data analysis (EDA) on a hotel booking dataset in order to gain insights into customer behavior and booking patterns. The dataset contained information on hotel bookings, including booking dates, customer demographics, and reservation details First we cleaned and preprocessed the data, which involved removing missing values, handling duplicates. Then we visualized the data using various graphical techniques such as histograms, scatter plots, and heat maps. Through our analysis, we discovered several interesting insights For example we found that most bookings were made between july and August\n",
        "\n"
      ],
      "metadata": {
        "id": "F6v_1wHtG2nS"
      }
    },
    {
      "cell_type": "markdown",
      "source": [
        "# **GitHub Link -**"
      ],
      "metadata": {
        "id": "w6K7xa23Elo4"
      }
    },
    {
      "cell_type": "markdown",
      "source": [
        "Provide your GitHub Link here."
      ],
      "metadata": {
        "id": "h1o69JH3Eqqn"
      }
    },
    {
      "cell_type": "markdown",
      "source": [
        "# **Problem Statement**\n"
      ],
      "metadata": {
        "id": "yQaldy8SH6Dl"
      }
    },
    {
      "cell_type": "markdown",
      "source": [
        "Have you ever considered the ideal season of the year to reserve a fhotel room? Alternatively how long should I remain to get the greatest dally rate? What if you wanted to foretell whether a notel would unreasonably frequently receive unusual requests? You can investigate those Questions using the data from hotel reservations: This data collection comprises reservation details for a city hotel and a resort hotel as well as details like the date the reservat or was made the duration of the stav the number of aduits kids, and/or babies and the number of parsing spaces that are available The data is free of any information that may be used to centify an ngividual Explore and assess the uttormat on to"
      ],
      "metadata": {
        "id": "DpeJGUA3kjGy"
      }
    },
    {
      "cell_type": "markdown",
      "source": [
        "#### **Define Your Business Objective?**"
      ],
      "metadata": {
        "id": "PH-0ReGfmX4f"
      }
    },
    {
      "cell_type": "markdown",
      "source": [
        "Answer -\n",
        "Analyse the data on bookings of City Hotel and Resort Hotel to gain insights on the different factors that affect the booking This is undertaken as an individual project"
      ],
      "metadata": {
        "id": "PhDvGCAqmjP1"
      }
    },
    {
      "cell_type": "markdown",
      "source": [
        "# **General Guidelines** : -  "
      ],
      "metadata": {
        "id": "mDgbUHAGgjLW"
      }
    },
    {
      "cell_type": "markdown",
      "source": [
        "1.   Well-structured, formatted, and commented code is required.\n",
        "2.   Exception Handling, Production Grade Code & Deployment Ready Code will be a plus. Those students will be awarded some additional credits.\n",
        "     \n",
        "     The additional credits will have advantages over other students during Star Student selection.\n",
        "       \n",
        "             [ Note: - Deployment Ready Code is defined as, the whole .ipynb notebook should be executable in one go\n",
        "                       without a single error logged. ]\n",
        "\n",
        "3.   Each and every logic should have proper comments.\n",
        "4. You may add as many number of charts you want. Make Sure for each and every chart the following format should be answered.\n",
        "        \n",
        "\n",
        "```\n",
        "# Chart visualization code\n",
        "```\n",
        "            \n",
        "\n",
        "*   Why did you pick the specific chart?\n",
        "*   What is/are the insight(s) found from the chart?\n",
        "* Will the gained insights help creating a positive business impact?\n",
        "Are there any insights that lead to negative growth? Justify with specific reason.\n",
        "\n",
        "5. You have to create at least 20 logical & meaningful charts having important insights.\n",
        "\n",
        "\n",
        "[ Hints : - Do the Vizualization in  a structured way while following \"UBM\" Rule.\n",
        "\n",
        "U - Univariate Analysis,\n",
        "\n",
        "B - Bivariate Analysis (Numerical - Categorical, Numerical - Numerical, Categorical - Categorical)\n",
        "\n",
        "M - Multivariate Analysis\n",
        " ]\n",
        "\n",
        "\n",
        "\n"
      ],
      "metadata": {
        "id": "ZrxVaUj-hHfC"
      }
    },
    {
      "cell_type": "markdown",
      "source": [
        "# ***Let's Begin !***"
      ],
      "metadata": {
        "id": "O_i_v8NEhb9l"
      }
    },
    {
      "cell_type": "markdown",
      "source": [
        "## ***1. Know Your Data***"
      ],
      "metadata": {
        "id": "HhfV-JJviCcP"
      }
    },
    {
      "cell_type": "markdown",
      "source": [
        "### Import Libraries"
      ],
      "metadata": {
        "id": "Y3lxredqlCYt"
      }
    },
    {
      "cell_type": "code",
      "source": [
        "# Import Libraries\n",
        "import pandas as pd\n",
        "import numpy as np\n",
        "import matplotlib.pyplot as plt\n",
        "%matplotlib inline\n",
        "import seaborn as sns\n",
        "from datetime import datetime\n",
        "import ast"
      ],
      "metadata": {
        "id": "M8Vqi-pPk-HR"
      },
      "execution_count": null,
      "outputs": []
    },
    {
      "cell_type": "markdown",
      "source": [
        "### Dataset Loading"
      ],
      "metadata": {
        "id": "3RnN4peoiCZX"
      }
    },
    {
      "cell_type": "code",
      "source": [
        "# Load Dataset"
      ],
      "metadata": {
        "id": "4CkvbW_SlZ_R"
      },
      "execution_count": null,
      "outputs": []
    },
    {
      "cell_type": "code",
      "source": [
        "from google.colab import drive\n",
        "drive.mount('/content/drive')\n",
        "database=\"/content/drive/MyDrive/Colab Notebooks/Hotel Bookings.csv\"\n",
        "hotel_booking_df=pd.read_csv(database)"
      ],
      "metadata": {
        "id": "FWmtlrFEsW0w"
      },
      "execution_count": null,
      "outputs": []
    },
    {
      "cell_type": "markdown",
      "source": [
        "### Dataset First View"
      ],
      "metadata": {
        "id": "x71ZqKXriCWQ"
      }
    },
    {
      "cell_type": "code",
      "source": [
        "# Dataset First Look\n",
        "hotel_booking_df"
      ],
      "metadata": {
        "id": "LWNFOSvLl09H"
      },
      "execution_count": null,
      "outputs": []
    },
    {
      "cell_type": "markdown",
      "source": [
        "### Dataset Rows & Columns count"
      ],
      "metadata": {
        "id": "7hBIi_osiCS2"
      }
    },
    {
      "cell_type": "code",
      "source": [
        "# Dataset Rows & Columns count\n",
        "print(hotel_booking_df.index)\n",
        "\n",
        "print(hotel_booking_df.columns)"
      ],
      "metadata": {
        "id": "Kllu7SJgmLij"
      },
      "execution_count": null,
      "outputs": []
    },
    {
      "cell_type": "markdown",
      "source": [
        "### Dataset Information"
      ],
      "metadata": {
        "id": "JlHwYmJAmNHm"
      }
    },
    {
      "cell_type": "code",
      "source": [
        "# Dataset Info\n",
        "hotel_booking_df.info()"
      ],
      "metadata": {
        "id": "e9hRXRi6meOf"
      },
      "execution_count": null,
      "outputs": []
    },
    {
      "cell_type": "markdown",
      "source": [
        "#### Duplicate Values"
      ],
      "metadata": {
        "id": "35m5QtbWiB9F"
      }
    },
    {
      "cell_type": "code",
      "source": [
        "# Dataset Duplicate Value Count\n",
        "hotel_booking_df.drop_duplicates(inplace=True)\n",
        "uni_num_of_rows=hotel_booking_df.shape[0]\n",
        "uni_num_of_rows\n",
        "\n"
      ],
      "metadata": {
        "id": "1sLdpKYkmox0"
      },
      "execution_count": null,
      "outputs": []
    },
    {
      "cell_type": "code",
      "source": [
        "hotel_booking_df.reset_index()"
      ],
      "metadata": {
        "id": "zqe5DG8mx4fU"
      },
      "execution_count": null,
      "outputs": []
    },
    {
      "cell_type": "markdown",
      "source": [
        "#### Missing Values/Null Values"
      ],
      "metadata": {
        "id": "PoPl-ycgm1ru"
      }
    },
    {
      "cell_type": "code",
      "source": [
        "# Missing Values/Null Values Count\n",
        "null_value=hotel_booking_df.isnull()==True\n",
        "hotel_booking_df.fillna(np.nan, inplace=True)\n",
        "hotel_booking_df"
      ],
      "metadata": {
        "id": "GgHWkxvamxVg"
      },
      "execution_count": null,
      "outputs": []
    },
    {
      "cell_type": "code",
      "source": [
        "# Visualizing the missing values\n",
        "miss_values=hotel_booking_df.isnull().sum().sort_values(ascending=False)\n",
        "miss_values"
      ],
      "metadata": {
        "id": "3q5wnI3om9sJ"
      },
      "execution_count": null,
      "outputs": []
    },
    {
      "cell_type": "markdown",
      "source": [
        "### What did you know about your dataset?"
      ],
      "metadata": {
        "id": "H0kj-8xxnORC"
      }
    },
    {
      "cell_type": "markdown",
      "source": [
        "Answer - A single file in this data collection analyses different booking details between two hotels: a city hotel and a resort hotel. Includes details like the date the reservation was made, the number of people staying, the number of adults, kids, and/or babies, and the number of parking spaces available, among other things. There are 32 columns and 119390 rows in the entire dataset. Dataset contains duplicate items, such as 31944, which is later removed. Every column in this dataset has a data type, such as an integer, a float, or a text. We note that some of these data types are inaccurate and eliminate those columns afterward. We calculate the distinct value for each column, which represents the actual values for each column."
      ],
      "metadata": {
        "id": "gfoNAAC-nUe_"
      }
    },
    {
      "cell_type": "markdown",
      "source": [
        "## ***2. Understanding Your Variables***"
      ],
      "metadata": {
        "id": "nA9Y7ga8ng1Z"
      }
    },
    {
      "cell_type": "code",
      "source": [
        "# Dataset Columns\n",
        "df_columns=hotel_booking_df.columns\n",
        "df_columns"
      ],
      "metadata": {
        "id": "j7xfkqrt5Ag5"
      },
      "execution_count": null,
      "outputs": []
    },
    {
      "cell_type": "code",
      "source": [
        "# Dataset Describe\n",
        "hotel_booking_df.describe()"
      ],
      "metadata": {
        "id": "DnOaZdaE5Q5t"
      },
      "execution_count": null,
      "outputs": []
    },
    {
      "cell_type": "markdown",
      "source": [
        "Variables Description"
      ],
      "metadata": {
        "id": "lEQAK-m35Lyq"
      }
    },
    {
      "cell_type": "markdown",
      "source": [
        "1. hotel: Narne of the hotel (Resort Hotel or City Hotel)\n",
        "\n",
        "2. is canceled: if the booking was canceled (1) or not (0)\n",
        "\n",
        "3. lead time: Number of days before the actual antral of the Quests\n",
        "\n",
        "4. antes data year: Year of anival date\n",
        "\n",
        "5. antval dute month: Month of month arrival date\n",
        "\n",
        "6. anival date week number: Wock number of year for atval date\n",
        "\n",
        "\n",
        "\n",
        "10. adults: Number of adults among guests\n",
        "\n",
        "11. childrens: Number of children among guests\n",
        "\n",
        "12. babies: Number of babies among pansts\n",
        "\n",
        "13. mat: Type of meat bocited\n",
        "\n",
        "14. country: Country of guests\n",
        "\n",
        "15. mart Designation of market wpmart\n",
        "\n",
        "14. detribution, chamel: Name of booting distribution chanel\n",
        "\n",
        "  \n",
        "\n",
        "18. previous cancellations: Number of previous bookings that were cancelled by the customer prior to the current booking\n",
        "\n",
        "19. previous bookings_not_canceled: Number of previous bookings not cancelled by the customer prior to the current booking\n",
        "\n",
        "20. reserved room_type: Code of room type reserved\n",
        "\n",
        "21. assigned_room_type: Code of room type assigned\n",
        "\n",
        "22. booking changes: Number of changes/amendments made to the booking\n",
        "\n",
        "23. deposit type: Type of the deposit made by the guest\n",
        "\n",
        "24. agent: ID of travel agent who made the booking\n",
        "\n",
        "25. company: ID of the company that made the booking\n",
        "\n",
        "\n",
        "\n",
        "27. customer type: Type of customer, assuming one of four categories\n",
        "\n",
        "28. adr: Average Daily Rate, as defined by dividing the sum of all lodging transactions by the total number of staying nights\n",
        "\n",
        "29. required.car_parking spaces: Number of car parking spaces required by the customer\n",
        "\n",
        "30. total of speciel_requests: Number of special requests"
      ],
      "metadata": {
        "id": "aJV4KIxSnxay"
      }
    },
    {
      "cell_type": "markdown",
      "source": [
        "### Check Unique Values for each variable."
      ],
      "metadata": {
        "id": "u3PMJOP6ngxN"
      }
    },
    {
      "cell_type": "code",
      "source": [
        "# Check Unique Values for each variable.\n",
        "print(hotel_booking_df.apply(lambda col : col.unique()))"
      ],
      "metadata": {
        "id": "zms12Yq5n-jE"
      },
      "execution_count": null,
      "outputs": []
    },
    {
      "cell_type": "markdown",
      "source": [
        "## 3. ***Data Wrangling***"
      ],
      "metadata": {
        "id": "dauF4eBmngu3"
      }
    },
    {
      "cell_type": "markdown",
      "source": [
        "### Data Wrangling Code"
      ],
      "metadata": {
        "id": "bKJF3rekwFvQ"
      }
    },
    {
      "cell_type": "code",
      "source": [
        "# lets check , what is the percentage of null values in each column, starting from company.\n",
        "percentage_company_null= miss_values[0]/uni_num_of_rows*100\n",
        "percentage_company_null\n",
        "\n"
      ],
      "metadata": {
        "id": "wk-9a2fpoLcV"
      },
      "execution_count": null,
      "outputs": []
    },
    {
      "cell_type": "code",
      "source": [
        "# to fill the nan values in the  column, lets check which column has null values, we have already started the same\n",
        "miss_values[:5]"
      ],
      "metadata": {
        "id": "cOAMswqMmMmp"
      },
      "execution_count": null,
      "outputs": []
    },
    {
      "cell_type": "code",
      "source": [
        "# it is better to drop the column 'company' altogather since the number of missing values is extremly high as compared to number of rows\n",
        "hotel_booking_df.drop(['company'] ,axis=1 , inplace=True)"
      ],
      "metadata": {
        "id": "fY1WQZpwmMQp"
      },
      "execution_count": null,
      "outputs": []
    },
    {
      "cell_type": "code",
      "source": [
        "# now lets check for agent\n",
        "percentage_agent_null= miss_values[1]/uni_num_of_rows*100\n",
        "percentage_agent_null\n",
        "\n"
      ],
      "metadata": {
        "id": "GcYh0exzmMEZ"
      },
      "execution_count": null,
      "outputs": []
    },
    {
      "cell_type": "code",
      "source": [
        "# As we know there are minimal null values in agent, lets fill this by taking mode of all values\n",
        "hotel_booking_df['agent'].fillna(value=0, inplace=True)\n",
        "# we will re-check that column has no null values\n",
        "hotel_booking_df['agent'].isnull().sum()"
      ],
      "metadata": {
        "id": "vxO6E23VmL4s"
      },
      "execution_count": null,
      "outputs": []
    },
    {
      "cell_type": "code",
      "source": [
        "# now lets check for null values in country col\n",
        "percentage_country_null= miss_values[2]/uni_num_of_rows*100\n",
        "percentage_country_null"
      ],
      "metadata": {
        "id": "KBfEFkYomLs_"
      },
      "execution_count": null,
      "outputs": []
    },
    {
      "cell_type": "code",
      "source": [
        "# we have less null values in country col, so we will replace null from 'other' as country name\n",
        "hotel_booking_df['country'].fillna(value='other', inplace=True)\n",
        "# we will re-check that column has no null values\n",
        "hotel_booking_df['country'].isnull().sum()\n"
      ],
      "metadata": {
        "id": "fLWPGi3emLgf"
      },
      "execution_count": null,
      "outputs": []
    },
    {
      "cell_type": "code",
      "source": [
        "# now lets check for null values in children col\n",
        "percentage_children_null= miss_values[3]/uni_num_of_rows*100\n",
        "percentage_children_null"
      ],
      "metadata": {
        "id": "TqEv6FYDmLTM"
      },
      "execution_count": null,
      "outputs": []
    },
    {
      "cell_type": "code",
      "source": [
        "# now lets check whether the database has anyother null values\n",
        "hotel_booking_df.isnull().sum() # as we can see there is no null values"
      ],
      "metadata": {
        "id": "MUFu2VXOmLF6"
      },
      "execution_count": null,
      "outputs": []
    },
    {
      "cell_type": "code",
      "source": [
        "# change in datatype for required column\n",
        "# showing the info of the data to check datatype\n",
        "hotel_booking_df.info()"
      ],
      "metadata": {
        "id": "exU_7dtPmKzs"
      },
      "execution_count": null,
      "outputs": []
    },
    {
      "cell_type": "code",
      "source": [
        "# total stay in nights\n",
        "hotel_booking_df['total_stay_in_nights']=hotel_booking_df['stays_in_week_nights'] + hotel_booking_df['stays_in_weekend_nights']\n",
        "hotel_booking_df['total_stay_in_nights'] # we have created a col for total stays in night by adding week night and weekend night stay col"
      ],
      "metadata": {
        "id": "2P_rYykiryhQ"
      },
      "execution_count": null,
      "outputs": []
    },
    {
      "cell_type": "code",
      "source": [
        "# we have created a col for revenue by total stay * adr\n",
        "hotel_booking_df['revenue']=hotel_booking_df['total_stay_in_nights']*hotel_booking_df['adr']\n",
        "hotel_booking_df['revenue']"
      ],
      "metadata": {
        "id": "aUk1DSvoryTd"
      },
      "execution_count": null,
      "outputs": []
    },
    {
      "cell_type": "code",
      "source": [
        "# also for information we will also add a col with total guest comming from each booking\n",
        "hotel_booking_df['total_guest']=hotel_booking_df['adults']+hotel_booking_df['children']+hotel_booking_df['babies']\n",
        "hotel_booking_df['total_guest'].sum()"
      ],
      "metadata": {
        "id": "Libml5MdryFU"
      },
      "execution_count": null,
      "outputs": []
    },
    {
      "cell_type": "code",
      "source": [
        "# for understanding from col 'is cancelled' we will replace values(0,1) to is cancelled , not cancelled\n",
        "hotel_booking_df['is_canceled']=hotel_booking_df['is_canceled'].replace([0,1] , ['not canceled', 'is canceled'])\n",
        "hotel_booking_df['is_canceled']"
      ],
      "metadata": {
        "id": "Rlqpkzj3rx2k"
      },
      "execution_count": null,
      "outputs": []
    },
    {
      "cell_type": "code",
      "source": [
        "# same for is_repeated_guest col\n",
        "hotel_booking_df['is_repeated_guest']=hotel_booking_df['is_repeated_guest'].replace([0,1] , ['not repeated', 'repeated'])\n",
        "hotel_booking_df['is_repeated_guest']"
      ],
      "metadata": {
        "id": "dr1ak26qzYVC"
      },
      "execution_count": null,
      "outputs": []
    },
    {
      "cell_type": "code",
      "source": [
        "# now we will check overall revenue hotel wise\n",
        "hotel_wise_total_revenue=hotel_booking_df.groupby('hotel')['revenue'].sum()\n",
        "hotel_wise_total_revenue"
      ],
      "metadata": {
        "id": "6NttvZOrzYG_"
      },
      "execution_count": null,
      "outputs": []
    },
    {
      "cell_type": "code",
      "source": [
        "hotel_booking_df[['hotel','revenue']]"
      ],
      "metadata": {
        "id": "AS0BA0hRzX86"
      },
      "execution_count": null,
      "outputs": []
    },
    {
      "cell_type": "code",
      "source": [],
      "metadata": {
        "id": "XhdQ3YJ8zXxp"
      },
      "execution_count": null,
      "outputs": []
    },
    {
      "cell_type": "code",
      "source": [],
      "metadata": {
        "id": "n9LJSfhEzXko"
      },
      "execution_count": null,
      "outputs": []
    },
    {
      "cell_type": "markdown",
      "source": [
        "### What all manipulations have you done and insights you found?"
      ],
      "metadata": {
        "id": "MSa1f5Uengrz"
      }
    },
    {
      "cell_type": "markdown",
      "source": [
        "Answer - We only made a few changes to the date.\n",
        "\n",
        "Columns added-\n",
        "\n",
        "We have seen that a few columns are needed in the data for analytical purposes, and these columns can be evaluated.\n",
        "\n",
        "a) Number of Guests: We may access the overall number of guests and Income by using these columns. This value is obtained by summing the Total number of adults, children, and infants.\n",
        "\n",
        "b) Income: ADR and total guests are multiplied to find revenue. This column will be used to examine each hotel's growth and profitability.\n",
        "\n",
        "-Columns deleted-\n",
        "\n",
        "a)company: As we can see, this column almost has no data. As a result, we had to elliminate this column because it had no bearing on th analysis\n",
        "\n",
        "Replace values in columns by\n",
        "\n",
        "is cancelled, fent cancelled, and is a repeat visitor. As we've seen, these columns only hold the value of 0,1 to Indicate that the boycott is now being cancelled. These values (0.1) from \"Cancelled\" & \"not cancelled are changed. The same procedure is used to change 0.1 from \"Repeated\" and \"not repeated in the column To repeated guest\". These values will now facilitate greater comprehension during visualisation\n",
        "\n",
        "-Changes to the values' data lypas in columens-\n",
        "\n",
        "a) Agent & Kids: We verified that these columns contain float values, which don't make sense in the data because they represent the guest count and agent ID. Therefore, we have updated the 'float' data type of these columns to Integer.\n",
        "\n",
        "a) Data wrangling must be done before any data from the data set can be visualised.\n",
        "\n",
        "Data wrangling must be done before any data from the data set can be visualised. We have examined each columns null value in order to determine that. After checking, drop the column using the 'drop method if we find one that has a greater percentage of null values. We are so removed from the \"company\" column. When there are only a few null values, we fill those null values with the necessary values using the filma) function.\n",
        "\n",
        "b) In the sarme, we looked to see whether there was any data duplication and discovered that a few rows had duplicate data. As a result, we used the drop duplicates) method to delete those rows from the data set."
      ],
      "metadata": {
        "id": "LbyXE7I1olp8"
      }
    },
    {
      "cell_type": "markdown",
      "source": [
        "## ***4. Data Vizualization, Storytelling & Experimenting with charts : Understand the relationships between variables***"
      ],
      "metadata": {
        "id": "GF8Ens_Soomf"
      }
    },
    {
      "cell_type": "markdown",
      "source": [
        "#### Chart - 1"
      ],
      "metadata": {
        "id": "0wOQAZs5pc--"
      }
    },
    {
      "cell_type": "code",
      "source": [
        "#Let's create a function which will give us bar chart of data respective with a col.\n",
        "\n",
        "def get_count_from_column_bar(df, column_label):\n",
        "  df_grpd = df[column_label].value_counts()\n",
        "  df_grpd = pd.DataFrame({'index' :df_grpd.index, 'count':df_grpd.values})\n",
        "  return df_grpd\n",
        "\n",
        "def plot_bar_chart_from_column(df, column_label, t1):\n",
        "  df_grpd=get_count_from_column_bar(df, column_label)\n",
        "  fig, ax= plt.subplots(figsize=(14, 6))\n",
        "  c=['g','r','b','c','y']\n",
        "  ax.bar(df_grpd['index'], df_grpd['count'], width = 0.4, align ='edge', edgecolor = 'black', linewidth = 4, color=c, linestyle=\":\", alpha=0.5)\n",
        "  plt.title(t1, bbox={'facecolor':'0.8', \"pad\":3})\n",
        "  plt.legend()\n",
        "  plt.ylabel('count')\n",
        "  plt.xticks(rotation =15)\n",
        "  plt.show()"
      ],
      "metadata": {
        "id": "lxyRVPuT6egJ"
      },
      "execution_count": null,
      "outputs": []
    },
    {
      "cell_type": "code",
      "source": [
        "# Chart - 1 visualization code\n",
        "def get_count_from_column(df, column_label):\n",
        "\n",
        "  df_grpd=df[column_label].value_counts()\n",
        "  df_grpd=pd.DataFrame({'index':df_grpd.index, 'count':df_grpd.values})\n",
        "  return df_grpd\n",
        "\n",
        "# plot a pie chart from grouped data\n",
        "\n",
        "def plot_pie_chart_from_column(df, column_label, t1, exp):\n",
        "\n",
        "  df_grpd=get_count_from_column(df, column_label)\n",
        "\n",
        "  fig, ax= plt.subplots(figsize=(14,9))\n",
        "\n",
        "  ax.pie(df_grpd.loc[:, 'count'], labels= df_grpd.loc[:, 'index'], autopct=\"%1.2f%%\", startangle=98, labeldistance =1.2, explode= exp)\n",
        "  plt.title(t1, bbox={'facecolor':'0.8', \"pad\":3})\n",
        "\n",
        "  ax.axis(\"equal\")\n",
        "\n",
        "  plt.legend()\n",
        "\n",
        "  plt.show()\n"
      ],
      "metadata": {
        "id": "7v_ESjsspbW7"
      },
      "execution_count": null,
      "outputs": []
    },
    {
      "cell_type": "code",
      "source": [
        "exp1=[0.05,0.05]\n",
        "plot_pie_chart_from_column(hotel_booking_df,'hotel','Booking percantage of hotel by name',exp1)"
      ],
      "metadata": {
        "id": "QA9zThhdA59N"
      },
      "execution_count": null,
      "outputs": []
    },
    {
      "cell_type": "markdown",
      "source": [
        "##### 1. Why did you pick the specific chart?"
      ],
      "metadata": {
        "id": "K5QZ13OEpz2H"
      }
    },
    {
      "cell_type": "markdown",
      "source": [
        "Answer - To present the data that in which the more booking have been done."
      ],
      "metadata": {
        "id": "XESiWehPqBRc"
      }
    },
    {
      "cell_type": "markdown",
      "source": [
        "##### 2. What is/are the insight(s) found from the chart?"
      ],
      "metadata": {
        "id": "lQ7QKXXCp7Bj"
      }
    },
    {
      "cell_type": "markdown",
      "source": [
        "Answer - Here, we found that the booking number is higher in city hotel which is 61.12% than resort hotel whixh is 38.87%. we can say city hotel has higher consumption."
      ],
      "metadata": {
        "id": "C_j1G7yiqdRP"
      }
    },
    {
      "cell_type": "markdown",
      "source": [
        "##### 3. Will the gained insights help creating a positive business impact?\n",
        "Are there any insights that lead to negative growth? Justify with specific reason."
      ],
      "metadata": {
        "id": "448CDAPjqfQr"
      }
    },
    {
      "cell_type": "markdown",
      "source": [
        "Answer - yes, for both hotels the data is making some positive business impact:-\n",
        "city hotel-provide more services to provide more guest to increase revenue.\n",
        "resort hotel- find solution to attract guest."
      ],
      "metadata": {
        "id": "3cspy4FjqxJW"
      }
    },
    {
      "cell_type": "markdown",
      "source": [
        "#### Chart - 2"
      ],
      "metadata": {
        "id": "KSlN3yHqYklG"
      }
    },
    {
      "cell_type": "code",
      "source": [
        "# Chart - 2 visualization code\n",
        "exp4=[0,0.1]\n",
        "plot_pie_chart_from_column(hotel_booking_df,'is_canceled','cancellation volume of hotel',exp4)"
      ],
      "metadata": {
        "id": "R4YgtaqtYklH"
      },
      "execution_count": null,
      "outputs": []
    },
    {
      "cell_type": "markdown",
      "source": [
        "##### 1. Why did you pick the specific chart?"
      ],
      "metadata": {
        "id": "t6dVpIINYklI"
      }
    },
    {
      "cell_type": "markdown",
      "source": [
        "Answer - In this chart we represented the cancellation rate of hotel booking."
      ],
      "metadata": {
        "id": "5aaW0BYyYklI"
      }
    },
    {
      "cell_type": "markdown",
      "source": [
        "##### 2. What is/are the insight(s) found from the chart?"
      ],
      "metadata": {
        "id": "ijmpgYnKYklI"
      }
    },
    {
      "cell_type": "markdown",
      "source": [
        "Answer -Here, we found that overall 25% of hotel booking cancelled."
      ],
      "metadata": {
        "id": "PSx9atu2YklI"
      }
    },
    {
      "cell_type": "markdown",
      "source": [
        "##### 3. Will the gained insights help creating a positive business impact?\n",
        "Are there any insights that lead to negative growth? Justify with specific reason."
      ],
      "metadata": {
        "id": "-JiQyfWJYklI"
      }
    },
    {
      "cell_type": "markdown",
      "source": [
        "Answer- we need to check the  reason of cancellation and resolve the issue."
      ],
      "metadata": {
        "id": "BcBbebzrYklV"
      }
    },
    {
      "cell_type": "markdown",
      "source": [
        "#### Chart - 3"
      ],
      "metadata": {
        "id": "EM7whBJCYoAo"
      }
    },
    {
      "cell_type": "code",
      "source": [
        "# Chart - 3 visualization code\n",
        "plot_bar_chart_from_column(hotel_booking_df,'distribution_channel','distribution channel volume')"
      ],
      "metadata": {
        "id": "t6GMdE67YoAp"
      },
      "execution_count": null,
      "outputs": []
    },
    {
      "cell_type": "markdown",
      "source": [
        "##### 1. Why did you pick the specific chart?"
      ],
      "metadata": {
        "id": "fge-S5ZAYoAp"
      }
    },
    {
      "cell_type": "markdown",
      "source": [
        "Answer - The followong chart represent that the maximum volume of booking is done from which channel.To represent the number in descending order I used bar chart"
      ],
      "metadata": {
        "id": "5dBItgRVYoAp"
      }
    },
    {
      "cell_type": "markdown",
      "source": [
        "##### 2. What is/are the insight(s) found from the chart?"
      ],
      "metadata": {
        "id": "85gYPyotYoAp"
      }
    },
    {
      "cell_type": "markdown",
      "source": [
        "Answer -As we can see TA/TO is highest. recommending to continue booking through TA/TO."
      ],
      "metadata": {
        "id": "4jstXR6OYoAp"
      }
    },
    {
      "cell_type": "markdown",
      "source": [
        "##### 3. Will the gained insights help creating a positive business impact?\n",
        "Are there any insights that lead to negative growth? Justify with specific reason."
      ],
      "metadata": {
        "id": "RoGjAbkUYoAp"
      }
    },
    {
      "cell_type": "markdown",
      "source": [
        "Answer - Yes this shown positive business impact."
      ],
      "metadata": {
        "id": "zfJ8IqMcYoAp"
      }
    },
    {
      "cell_type": "markdown",
      "source": [
        "#### Chart - 4"
      ],
      "metadata": {
        "id": "4Of9eVA-YrdM"
      }
    },
    {
      "cell_type": "code",
      "source": [
        "# Chart - 4 visualization code\n",
        "exp2=[0.2,0,0,0,0,0,0,0,0,0,0,0]\n",
        "plot_pie_chart_from_column(hotel_booking_df,'arrival_date_month','Month-wise booking',exp2)"
      ],
      "metadata": {
        "id": "irlUoxc8YrdO"
      },
      "execution_count": null,
      "outputs": []
    },
    {
      "cell_type": "markdown",
      "source": [
        "##### 1. Why did you pick the specific chart?"
      ],
      "metadata": {
        "id": "iky9q4vBYrdO"
      }
    },
    {
      "cell_type": "markdown",
      "source": [
        "Answer - To show the percentage share of booking in each month , on overall level."
      ],
      "metadata": {
        "id": "aJRCwT6DYrdO"
      }
    },
    {
      "cell_type": "markdown",
      "source": [
        "##### 2. What is/are the insight(s) found from the chart?"
      ],
      "metadata": {
        "id": "F6T5p64dYrdO"
      }
    },
    {
      "cell_type": "markdown",
      "source": [
        "Answer - The above percentage shows month may,june and aug have highest number of booking due to holiday season.recommending advertisment to attract more and more customers."
      ],
      "metadata": {
        "id": "Xx8WAJvtYrdO"
      }
    },
    {
      "cell_type": "markdown",
      "source": [
        "##### 3. Will the gained insights help creating a positive business impact?\n",
        "Are there any insights that lead to negative growth? Justify with specific reason."
      ],
      "metadata": {
        "id": "y-Ehk30pYrdP"
      }
    },
    {
      "cell_type": "markdown",
      "source": [
        "Answer - Yes, the increased volume of visitors will help hotel to manage revenue in downitme, will also help employee satisfaction and retention."
      ],
      "metadata": {
        "id": "jLNxxz7MYrdP"
      }
    },
    {
      "cell_type": "markdown",
      "source": [
        "#### Chart - 5"
      ],
      "metadata": {
        "id": "bamQiAODYuh1"
      }
    },
    {
      "cell_type": "code",
      "source": [
        "# Chart - 5 visualization code\n",
        "exp3=[0,0.2]\n",
        "plot_pie_chart_from_column(hotel_booking_df,'is_repeated_guest','guest repeating status',exp3)"
      ],
      "metadata": {
        "id": "TIJwrbroYuh3"
      },
      "execution_count": null,
      "outputs": []
    },
    {
      "cell_type": "markdown",
      "source": [
        "##### 1. Why did you pick the specific chart?"
      ],
      "metadata": {
        "id": "QHF8YVU7Yuh3"
      }
    },
    {
      "cell_type": "markdown",
      "source": [
        "Answer - To show percentage of repeated and non repeated guests."
      ],
      "metadata": {
        "id": "dcxuIMRPYuh3"
      }
    },
    {
      "cell_type": "markdown",
      "source": [
        "##### 2. What is/are the insight(s) found from the chart?"
      ],
      "metadata": {
        "id": "GwzvFGzlYuh3"
      }
    },
    {
      "cell_type": "markdown",
      "source": [
        "Answer -Here, we can see that the number of repeated guest is very less than overall guests."
      ],
      "metadata": {
        "id": "uyqkiB8YYuh3"
      }
    },
    {
      "cell_type": "markdown",
      "source": [
        "##### 3. Will the gained insights help creating a positive business impact?\n",
        "Are there any insights that lead to negative growth? Justify with specific reason."
      ],
      "metadata": {
        "id": "qYpmQ266Yuh3"
      }
    },
    {
      "cell_type": "markdown",
      "source": [
        "Answer -we can give offers to non repeated customers to increase revenue."
      ],
      "metadata": {
        "id": "_WtzZ_hCYuh4"
      }
    },
    {
      "cell_type": "markdown",
      "source": [],
      "metadata": {
        "id": "a_hyM_xfeD9G"
      }
    },
    {
      "cell_type": "markdown",
      "source": [
        "#### Chart - 6"
      ],
      "metadata": {
        "id": "OH-pJp9IphqM"
      }
    },
    {
      "cell_type": "code",
      "source": [
        "# Chart - 6 visualization code\n",
        "plot_bar_chart_from_column(hotel_booking_df,'assigned_room_type','Assigned room by type')"
      ],
      "metadata": {
        "id": "kuRf4wtuphqN"
      },
      "execution_count": null,
      "outputs": []
    },
    {
      "cell_type": "markdown",
      "source": [
        "##### 1. Why did you pick the specific chart?"
      ],
      "metadata": {
        "id": "bbFf2-_FphqN"
      }
    },
    {
      "cell_type": "markdown",
      "source": [
        "Answer - To show distribution by volume.which room is alloted."
      ],
      "metadata": {
        "id": "loh7H2nzphqN"
      }
    },
    {
      "cell_type": "markdown",
      "source": [
        "##### 2. What is/are the insight(s) found from the chart?"
      ],
      "metadata": {
        "id": "_ouA3fa0phqN"
      }
    },
    {
      "cell_type": "markdown",
      "source": [
        "Answer -This chart shows room type 'A' is most preferred by guests."
      ],
      "metadata": {
        "id": "VECbqPI7phqN"
      }
    },
    {
      "cell_type": "markdown",
      "source": [
        "##### 3. Will the gained insights help creating a positive business impact?\n",
        "Are there any insights that lead to negative growth? Justify with specific reason."
      ],
      "metadata": {
        "id": "Seke61FWphqN"
      }
    },
    {
      "cell_type": "markdown",
      "source": [
        "Answer -Yes, positive impact beacuse 'A', 'D', 'E' is most preferred bu guests due to better service offered in room type."
      ],
      "metadata": {
        "id": "DW4_bGpfphqN"
      }
    },
    {
      "cell_type": "markdown",
      "source": [
        "#### Chart - 7"
      ],
      "metadata": {
        "id": "PIIx-8_IphqN"
      }
    },
    {
      "cell_type": "code",
      "source": [
        "# Chart - 7 visualization code\n",
        "market_segment_df=pd.DataFrame(hotel_booking_df['market_segment'])\n",
        "\n",
        "market_segment_df_data = market_segment_df.groupby('market_segment')['market_segment'].count()\n",
        "market_segment_df_data.sort_values(ascending = False, inplace = True)\n",
        "\n",
        "plt.figure(figsize=(15,6))\n",
        "y = np.array([4,5,6])\n",
        "\n",
        "market_segment_df_data.plot(kind= 'bar', color=['r', 'g', 'y', 'b', 'pink', 'black', 'brown'], fontsize =20, legend='True')"
      ],
      "metadata": {
        "id": "lqAIGUfyphqO"
      },
      "execution_count": null,
      "outputs": []
    },
    {
      "cell_type": "markdown",
      "source": [
        "##### 1. Why did you pick the specific chart?"
      ],
      "metadata": {
        "id": "t27r6nlMphqO"
      }
    },
    {
      "cell_type": "markdown",
      "source": [
        "Answer -\n",
        "In this chart, we have seen market segment by which hotel has booked."
      ],
      "metadata": {
        "id": "iv6ro40sphqO"
      }
    },
    {
      "cell_type": "markdown",
      "source": [
        "##### 2. What is/are the insight(s) found from the chart?"
      ],
      "metadata": {
        "id": "r2jJGEOYphqO"
      }
    },
    {
      "cell_type": "markdown",
      "source": [
        "Answer - Online TA has been used most frequently to book hotel by the guest."
      ],
      "metadata": {
        "id": "Po6ZPi4hphqO"
      }
    },
    {
      "cell_type": "markdown",
      "source": [
        "##### 3. Will the gained insights help creating a positive business impact?\n",
        "Are there any insights that lead to negative growth? Justify with specific reason."
      ],
      "metadata": {
        "id": "b0JNsNcRphqO"
      }
    },
    {
      "cell_type": "markdown",
      "source": [
        "Answer Yes, it is creating positive business impact that guests are using Online TA market segment as most prefered to book hotels."
      ],
      "metadata": {
        "id": "xvSq8iUTphqO"
      }
    },
    {
      "cell_type": "markdown",
      "source": [
        "#### Chart - 8"
      ],
      "metadata": {
        "id": "BZR9WyysphqO"
      }
    },
    {
      "cell_type": "code",
      "source": [
        "# Chart - 8 visualization code\n",
        "guest_country_wise= pd.DataFrame(hotel_booking_df[['country','total_guest']])\n",
        "\n",
        "guest_country_wise_df =guest_country_wise.groupby(['country'])['total_guest'].sum()\n",
        "guest_country_wise_df.sort_values(ascending =False, inplace = True)\n",
        "\n",
        "top_10_country_by_guest= guest_country_wise_df.head(10)"
      ],
      "metadata": {
        "id": "TdPTWpAVphqO"
      },
      "execution_count": null,
      "outputs": []
    },
    {
      "cell_type": "code",
      "source": [
        "plt.figure(figsize=(12,6))\n",
        "\n",
        "sns.barplot(x=top_10_country_by_guest. index, y=top_10_country_by_guest).set(title='Top 10 Countries by Guest')\n",
        "\n",
        "print(\"\\n\\nPRT- Portugal\\nGBR Great Britain & Northern Ireland\\nFRA France ESP Spain\\nDEU Germany\\nITA Italy\\nIRL Ireland\\nBRA Brazil\\nBEL Belgium\\nNLD Netherland\")\n"
      ],
      "metadata": {
        "id": "9KoKsxJ068C7"
      },
      "execution_count": null,
      "outputs": []
    },
    {
      "cell_type": "markdown",
      "source": [
        "##### 1. Why did you pick the specific chart?"
      ],
      "metadata": {
        "id": "jj7wYXLtphqO"
      }
    },
    {
      "cell_type": "markdown",
      "source": [
        "Answer -A chart of the top 10 nations is displayed."
      ],
      "metadata": {
        "id": "Ob8u6rCTphqO"
      }
    },
    {
      "cell_type": "markdown",
      "source": [
        "##### 2. What is/are the insight(s) found from the chart?"
      ],
      "metadata": {
        "id": "eZrbJ2SmphqO"
      }
    },
    {
      "cell_type": "markdown",
      "source": [
        "Answer -2. As we can see, the majority of the visitors are from Portugal.\n"
      ],
      "metadata": {
        "id": "mZtgC_hjphqO"
      }
    },
    {
      "cell_type": "markdown",
      "source": [
        "##### 3. Will the gained insights help creating a positive business impact?\n",
        "Are there any insights that lead to negative growth? Justify with specific reason."
      ],
      "metadata": {
        "id": "rFu4xreNphqO"
      }
    },
    {
      "cell_type": "markdown",
      "source": [
        "Answer - To Increase the number of customers, we can increase our marketing efforts and provide enticing deals to visitors from Portugal"
      ],
      "metadata": {
        "id": "ey_0qi68phqO"
      }
    },
    {
      "cell_type": "markdown",
      "source": [
        "#### Chart - 9"
      ],
      "metadata": {
        "id": "YJ55k-q6phqO"
      }
    },
    {
      "cell_type": "code",
      "source": [
        "# Chart - 9 visualization code\n",
        "average_adr= hotel_booking_df.groupby('hotel')['adr'].mean()\n",
        "\n",
        "average_adr\n",
        "\n",
        "plt.subplots(figsize=(8, 5))\n",
        "\n",
        "average_adr.plot(kind ='barh', color = ('g', 'r'))\n",
        "\n",
        "plt.xlabel(\"Average ADA\", fontdict={'fontsize': 12, 'fontweight': 5, 'color': \"brown\"})\n",
        "\n",
        "plt.ylabel(\"Hotel Name\", fontdict={'fontsize': 12, 'fontweight': 5, 'color' :'Brown'})\n",
        "plt.title(\"Average ADR of Hotel\", fontdict={'fontsize': 12, 'fontweight': 5, 'color': 'Green'})"
      ],
      "metadata": {
        "id": "B2aS4O1ophqO"
      },
      "execution_count": null,
      "outputs": []
    },
    {
      "cell_type": "markdown",
      "source": [
        "##### 1. Why did you pick the specific chart?"
      ],
      "metadata": {
        "id": "gCFgpxoyphqP"
      }
    },
    {
      "cell_type": "markdown",
      "source": [
        "\\Answer - I choose bar chart to visualize and compare Average ADA of both the hotels."
      ],
      "metadata": {
        "id": "TVxDimi2phqP"
      }
    },
    {
      "cell_type": "markdown",
      "source": [
        "##### 2. What is/are the insight(s) found from the chart?"
      ],
      "metadata": {
        "id": "OVtJsKN_phqQ"
      }
    },
    {
      "cell_type": "markdown",
      "source": [
        "Answer - city hotel has more average ADA as compared to resort hotel"
      ],
      "metadata": {
        "id": "ngGi97qjphqQ"
      }
    },
    {
      "cell_type": "markdown",
      "source": [
        "##### 3. Will the gained insights help creating a positive business impact?\n",
        "Are there any insights that lead to negative growth? Justify with specific reason."
      ],
      "metadata": {
        "id": "lssrdh5qphqQ"
      }
    },
    {
      "cell_type": "markdown",
      "source": [
        "Answer - profits earned by city hotel is more than the resort hotel"
      ],
      "metadata": {
        "id": "tBpY5ekJphqQ"
      }
    },
    {
      "cell_type": "markdown",
      "source": [
        "#### Chart - 10"
      ],
      "metadata": {
        "id": "U2RJ9gkRphqQ"
      }
    },
    {
      "cell_type": "code",
      "source": [
        "# Chart - 10 visualization code\n",
        "plt.figure(figsize = (8,5))\n",
        "\n",
        "hotel_wise_revenue = hotel_booking_df.groupby('hotel')['revenue'].sum()\n",
        "\n",
        "hotel_wise_revenue\n",
        "\n",
        "ax= hotel_wise_revenue.plot(kind= 'bar', color = ('black', 'green'))\n",
        "\n",
        "plt.xlabel(\"Hotel\", fontdict={'fontsize': 12, 'fontweight': 5, 'color': 'Brown'})\n",
        "\n",
        "plt.ylabel(\"Total Revenue\", fontdict={'fontsize': 12, 'fontweight': 5, 'color': 'Brown'})\n",
        "\n",
        "plt.title(\"Total Revenue\", fontdict={'fontsize': 12, 'fontweight': 5, 'color': 'Green'})"
      ],
      "metadata": {
        "id": "GM7a4YP4phqQ"
      },
      "execution_count": null,
      "outputs": []
    },
    {
      "cell_type": "markdown",
      "source": [
        "##### 1. Why did you pick the specific chart?"
      ],
      "metadata": {
        "id": "1M8mcRywphqQ"
      }
    },
    {
      "cell_type": "markdown",
      "source": [
        "Answer - To compare the Total revenue of both the hotels."
      ],
      "metadata": {
        "id": "8agQvks0phqQ"
      }
    },
    {
      "cell_type": "markdown",
      "source": [
        "##### 2. What is/are the insight(s) found from the chart?"
      ],
      "metadata": {
        "id": "tgIPom80phqQ"
      }
    },
    {
      "cell_type": "markdown",
      "source": [
        "Answer- Total revenue of city hotel is higher than resort hotel."
      ],
      "metadata": {
        "id": "Qp13pnNzphqQ"
      }
    },
    {
      "cell_type": "markdown",
      "source": [
        "#### Chart - 12"
      ],
      "metadata": {
        "id": "n3dbpmDWp1ck"
      }
    },
    {
      "cell_type": "code",
      "source": [
        "# Chart - 12 visualization\n",
        "\n",
        "plt.figure(figsize= (12,10), dpi = 100)\n",
        "hotel_wise_meal = hotel_booking_df.groupby(['hotel', 'meal'])['meal'].count().unstack()\n",
        "hotel_wise_meal.plot(kind='bar', figsize = (12,8))\n",
        "hotel_wise_meal"
      ],
      "metadata": {
        "id": "bwevp1tKp1ck"
      },
      "execution_count": null,
      "outputs": []
    },
    {
      "cell_type": "markdown",
      "source": [],
      "metadata": {
        "id": "EZydk8zRCa8L"
      }
    },
    {
      "cell_type": "markdown",
      "source": [
        "##### 1. Why did you pick the specific chart?"
      ],
      "metadata": {
        "id": "ylSl6qgtp1ck"
      }
    },
    {
      "cell_type": "markdown",
      "source": [
        "Answer -To display the visitor's preferred dining experience hotel-wise\n",
        "\n",
        "\n",
        "> Indented block\n",
        "\n"
      ],
      "metadata": {
        "id": "m2xqNkiQp1ck"
      }
    },
    {
      "cell_type": "markdown",
      "source": [
        "##### 2. What is/are the insight(s) found from the chart?"
      ],
      "metadata": {
        "id": "ZWILFDl5p1ck"
      }
    },
    {
      "cell_type": "markdown",
      "source": [
        "Answer - As you can see, guests at both hotels prefer the BB (Bed & Breakfast) meal. In order to increase customer retention and draw in new customers, the hotel can serve more delicious meals during this dinner."
      ],
      "metadata": {
        "id": "x-lUsV2mp1ck"
      }
    },
    {
      "cell_type": "markdown",
      "source": [
        "Answer Here"
      ],
      "metadata": {
        "id": "5wwDJXsLp1cl"
      }
    },
    {
      "cell_type": "markdown",
      "source": [
        "#### Chart - 13"
      ],
      "metadata": {
        "id": "Ag9LCva-p1cl"
      }
    },
    {
      "cell_type": "code",
      "source": [
        "# Chart - 13 visualization code\n",
        "plt.figure(figsize = (12,6))\n",
        "sns.scatterplot(y= 'total_stay_in_nights', x='adr', data= hotel_booking_df[hotel_booking_df['adr'] < 1000])\n",
        "plt.show()"
      ],
      "metadata": {
        "id": "EUfxeq9-p1cl"
      },
      "execution_count": null,
      "outputs": []
    },
    {
      "cell_type": "markdown",
      "source": [
        "##### 1. Why did you pick the specific chart?"
      ],
      "metadata": {
        "id": "E6MkPsBcp1cl"
      }
    },
    {
      "cell_type": "markdown",
      "source": [
        "Answer -To show comparision and affects of total stay in night vs ADR."
      ],
      "metadata": {
        "id": "V22bRsFWp1cl"
      }
    },
    {
      "cell_type": "markdown",
      "source": [
        "##### 2. What is/are the insight(s) found from the chart?"
      ],
      "metadata": {
        "id": "2cELzS2fp1cl"
      }
    },
    {
      "cell_type": "markdown",
      "source": [
        "Answer - Here we see that if guest's stay is decreased ,ADR is High."
      ],
      "metadata": {
        "id": "ozQPc2_Ip1cl"
      }
    },
    {
      "cell_type": "markdown",
      "source": [
        "#### Chart - 14 - Correlation Heatmap"
      ],
      "metadata": {
        "id": "NC_X3p0fY2L0"
      }
    },
    {
      "cell_type": "code",
      "source": [
        "# Correlation Heatmap visualization code\n",
        "\n",
        "corr_df= hotel_booking_df[['lead_time','previous_cancellations', 'previous_bookings_not_canceled', 'total_guest',\n",
        "\n",
        "'booking_changes', 'days_in_waiting_list', 'adr', 'required_car_parking_spaces', 'total_of_special_requests']].corr()\n",
        "\n",
        "f, ax= plt.subplots(figsize=(12, 12))\n",
        "\n",
        "sns.heatmap(corr_df, annot =True, fmt='.2f', annot_kws={'size': 18}, vmax=1, square=True, cmap=\"YlGnBu\")"
      ],
      "metadata": {
        "id": "xyC9zolEZNRQ"
      },
      "execution_count": null,
      "outputs": []
    },
    {
      "cell_type": "markdown",
      "source": [
        "##### 1. Why did you pick the specific chart?"
      ],
      "metadata": {
        "id": "UV0SzAkaZNRQ"
      }
    },
    {
      "cell_type": "markdown",
      "source": [
        "Answer -To comprehend the relationships among various numerical quantities\n"
      ],
      "metadata": {
        "id": "DVPuT8LYZNRQ"
      }
    },
    {
      "cell_type": "markdown",
      "source": [
        "##### 2. What is/are the insight(s) found from the chart?"
      ],
      "metadata": {
        "id": "YPEH6qLeZNRQ"
      }
    },
    {
      "cell_type": "markdown",
      "source": [
        "Answer -The axis's highest corelation value is 39% positive and its lowest correlation value is -9% negative."
      ],
      "metadata": {
        "id": "bfSqtnDqZNRR"
      }
    },
    {
      "cell_type": "markdown",
      "source": [
        "## **5. Solution to Business Objective**"
      ],
      "metadata": {
        "id": "JcMwzZxoAimU"
      }
    },
    {
      "cell_type": "markdown",
      "source": [
        "#### What do you suggest the client to achieve Business Objective ?\n",
        "Explain Briefly."
      ],
      "metadata": {
        "id": "8G2x9gOozGDZ"
      }
    },
    {
      "cell_type": "markdown",
      "source": [
        "Answer -1. For hotel business to flourish few things which we need to consider is high revenue generation, customers satisfaction and employeee retention.\n",
        "We are able achieve the same by showing the client which are the months which are high in revenue generation by pie chart distribution\n",
        "Increasing the revenue achieved by bar chart distribution of which typre room are most reserved and what are the months likely for visitors.So for these the client can be well prepare in advance so that minimum grievances would be faced by clients in long run . Qutliers like higher the visitor then adr has reduced drastically was shown in scattered plot so in off season client can eage for bulk booking this will aslo help extra revenue generation.\n"
      ],
      "metadata": {
        "id": "pASKb0qOza21"
      }
    },
    {
      "cell_type": "markdown",
      "source": [
        "# **Conclusion**"
      ],
      "metadata": {
        "id": "gCX9965dhzqZ"
      }
    },
    {
      "cell_type": "markdown",
      "source": [
        "The guests showed a preference for City hotels, making it the busiest type of hotel\n",
        "27.5% of all bookings were cancelled.\n",
        "Only 3.9% of guests revisited the hotels, indicating a low retention rate.\n",
        "Over 82% of bookings had 0 changes måde, while around 10% had single changes made\n",
        "The majority of customers (91.6%) did not require car parking spaces.\n",
        "About 79 1% of bookings were made through travel agents/tour operators\n",
        "Bed & Breakfast (BB) was the most preferred meal type among guests.\n",
        "More than 25,000 guests were from Portugal, making it the country with the highest number of guests\n",
        "Most bookings for City and Resort hotels were made in 2016\n",
        "City hotels generated more revenue than Resort hotels, with higher average ADR\n",
        "City hotels had a higner booking cancellation rate of almost 30%\n",
        "Resort hotels had a higher average lead time\n",
        "Waiting time was higher for City hotels compared to Resort hotels, indicating City hotels were busier\n",
        "Resort hotels had the highest number of repeated quests\n",
        "The optimal stay for both types of hotels was less than 7 days, with people typically staying for a week\n",
        "About 19% of people did not cancel their bookings despite not getting the reserved room, while only 2.5. cancelled their booking\n",
        "\n"
      ],
      "metadata": {
        "id": "Fjb1IsQkh3yE"
      }
    },
    {
      "cell_type": "markdown",
      "source": [
        "### ***Hurrah! You have successfully completed your EDA Capstone Project !!!***"
      ],
      "metadata": {
        "id": "gIfDvo9L0UH2"
      }
    }
  ]
}